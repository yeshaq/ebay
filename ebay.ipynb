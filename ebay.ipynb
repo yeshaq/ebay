{
 "cells": [
  {
   "cell_type": "code",
   "execution_count": 41,
   "metadata": {
    "collapsed": true
   },
   "outputs": [],
   "source": [
    "import pandas as pd\n",
    "import matplotlib.pyplot as plt\n",
    "import collections"
   ]
  },
  {
   "cell_type": "code",
   "execution_count": 42,
   "metadata": {
    "collapsed": false
   },
   "outputs": [],
   "source": [
    "%matplotlib inline"
   ]
  },
  {
   "cell_type": "markdown",
   "metadata": {},
   "source": [
    "Let's import the item excell file into panda dataframes"
   ]
  },
  {
   "cell_type": "code",
   "execution_count": 43,
   "metadata": {
    "collapsed": false
   },
   "outputs": [],
   "source": [
    "items = pd.read_excel(\"/home/yeshaq/Downloads/item-title.xlsx\")"
   ]
  },
  {
   "cell_type": "code",
   "execution_count": 44,
   "metadata": {
    "collapsed": false
   },
   "outputs": [
    {
     "data": {
      "text/plain": [
       "98180"
      ]
     },
     "execution_count": 44,
     "metadata": {},
     "output_type": "execute_result"
    }
   ],
   "source": [
    "len(items) "
   ]
  },
  {
   "cell_type": "markdown",
   "metadata": {},
   "source": [
    "Ok..about 100k items"
   ]
  },
  {
   "cell_type": "code",
   "execution_count": 45,
   "metadata": {
    "collapsed": false,
    "scrolled": true
   },
   "outputs": [
    {
     "data": {
      "text/html": [
       "<div>\n",
       "<table border=\"1\" class=\"dataframe\">\n",
       "  <thead>\n",
       "    <tr style=\"text-align: right;\">\n",
       "      <th></th>\n",
       "      <th>item_id1</th>\n",
       "      <th>META_CATEG_NAME</th>\n",
       "      <th>LEAF_CATEG_ID</th>\n",
       "      <th>AUCT_TITL</th>\n",
       "      <th>SLR_ID</th>\n",
       "    </tr>\n",
       "  </thead>\n",
       "  <tbody>\n",
       "    <tr>\n",
       "      <th>0</th>\n",
       "      <td>291572810442</td>\n",
       "      <td>Home &amp; Garden</td>\n",
       "      <td>117503</td>\n",
       "      <td>Troy Lighting F2058 Sunset Bronze Bristol Bay ...</td>\n",
       "      <td>1089488995</td>\n",
       "    </tr>\n",
       "    <tr>\n",
       "      <th>1</th>\n",
       "      <td>381531375722</td>\n",
       "      <td>Home &amp; Garden</td>\n",
       "      <td>117503</td>\n",
       "      <td>Trans Globe Lighting 10140 Polished Chrome 2 L...</td>\n",
       "      <td>1089488995</td>\n",
       "    </tr>\n",
       "    <tr>\n",
       "      <th>2</th>\n",
       "      <td>401057145020</td>\n",
       "      <td>Home &amp; Garden</td>\n",
       "      <td>117503</td>\n",
       "      <td>Nuvo Lighting 76/412 White 1 Light Semi-Flush ...</td>\n",
       "      <td>1089488995</td>\n",
       "    </tr>\n",
       "    <tr>\n",
       "      <th>3</th>\n",
       "      <td>381415003112</td>\n",
       "      <td>Home &amp; Garden</td>\n",
       "      <td>117503</td>\n",
       "      <td>Cal Lighting FX-3517/6 Warm Bronze / Wood Cruz...</td>\n",
       "      <td>1089488995</td>\n",
       "    </tr>\n",
       "    <tr>\n",
       "      <th>4</th>\n",
       "      <td>381415396411</td>\n",
       "      <td>Home &amp; Garden</td>\n",
       "      <td>116880</td>\n",
       "      <td>Hudson Valley Lighting 981 Polished Nickel / W...</td>\n",
       "      <td>1089488995</td>\n",
       "    </tr>\n",
       "  </tbody>\n",
       "</table>\n",
       "</div>"
      ],
      "text/plain": [
       "       item_id1 META_CATEG_NAME  LEAF_CATEG_ID  \\\n",
       "0  291572810442   Home & Garden         117503   \n",
       "1  381531375722   Home & Garden         117503   \n",
       "2  401057145020   Home & Garden         117503   \n",
       "3  381415003112   Home & Garden         117503   \n",
       "4  381415396411   Home & Garden         116880   \n",
       "\n",
       "                                           AUCT_TITL      SLR_ID  \n",
       "0  Troy Lighting F2058 Sunset Bronze Bristol Bay ...  1089488995  \n",
       "1  Trans Globe Lighting 10140 Polished Chrome 2 L...  1089488995  \n",
       "2  Nuvo Lighting 76/412 White 1 Light Semi-Flush ...  1089488995  \n",
       "3  Cal Lighting FX-3517/6 Warm Bronze / Wood Cruz...  1089488995  \n",
       "4  Hudson Valley Lighting 981 Polished Nickel / W...  1089488995  "
      ]
     },
     "execution_count": 45,
     "metadata": {},
     "output_type": "execute_result"
    }
   ],
   "source": [
    "items.head()"
   ]
  },
  {
   "cell_type": "markdown",
   "metadata": {},
   "source": [
    "Hmm...what categories are these items in?"
   ]
  },
  {
   "cell_type": "code",
   "execution_count": 46,
   "metadata": {
    "collapsed": false
   },
   "outputs": [],
   "source": [
    "categories = items.groupby(\"META_CATEG_NAME\")"
   ]
  },
  {
   "cell_type": "code",
   "execution_count": 47,
   "metadata": {
    "collapsed": false,
    "scrolled": true
   },
   "outputs": [
    {
     "name": "stdout",
     "output_type": "stream",
     "text": [
      "30201    Computers/Tablets & Networking\n",
      "Name: META_CATEG_NAME, dtype: object print item count 3\n",
      "246    Consumer Electronics\n",
      "Name: META_CATEG_NAME, dtype: object print item count 75\n",
      "1    Home & Garden\n",
      "Name: META_CATEG_NAME, dtype: object print item count 98101\n",
      "Series([], Name: META_CATEG_NAME, dtype: object) print item count 1\n"
     ]
    }
   ],
   "source": [
    "for cat in categories:\n",
    "    print cat[1][1:2][\"META_CATEG_NAME\"], \"print item count\", len(cat[1])"
   ]
  },
  {
   "cell_type": "markdown",
   "metadata": {},
   "source": [
    "Over 99% of the items are in the Home & Garden Category"
   ]
  },
  {
   "cell_type": "code",
   "execution_count": 48,
   "metadata": {
    "collapsed": false,
    "scrolled": true
   },
   "outputs": [
    {
     "data": {
      "text/plain": [
       "<matplotlib.axes._subplots.AxesSubplot at 0x9e448b2c>"
      ]
     },
     "execution_count": 48,
     "metadata": {},
     "output_type": "execute_result"
    },
    {
     "data": {
      "image/png": "[encoded data removed]",
      "text/plain": [
       "<matplotlib.figure.Figure at 0x9e45074c>"
      ]
     },
     "metadata": {},
     "output_type": "display_data"
    }
   ],
   "source": [
    "items.plot(kind=\"hist\", y = \"LEAF_CATEG_ID\")"
   ]
  },
  {
   "cell_type": "markdown",
   "metadata": {},
   "source": [
    "Most of those items are concentrated in on category leaf!"
   ]
  },
  {
   "cell_type": "markdown",
   "metadata": {},
   "source": [
    "Let's import the keyword file"
   ]
  },
  {
   "cell_type": "code",
   "execution_count": 49,
   "metadata": {
    "collapsed": false
   },
   "outputs": [],
   "source": [
    "kws = pd.read_excel(\"/home/yeshaq/Downloads/kw.xls\")"
   ]
  },
  {
   "cell_type": "code",
   "execution_count": 50,
   "metadata": {
    "collapsed": false
   },
   "outputs": [
    {
     "data": {
      "text/plain": [
       "24992"
      ]
     },
     "execution_count": 50,
     "metadata": {},
     "output_type": "execute_result"
    }
   ],
   "source": [
    "len(kws)"
   ]
  },
  {
   "cell_type": "code",
   "execution_count": 51,
   "metadata": {
    "collapsed": false
   },
   "outputs": [
    {
     "name": "stderr",
     "output_type": "stream",
     "text": [
      "/home/yeshaq/miniconda/lib/python2.7/site-packages/ipykernel/__main__.py:1: FutureWarning: sort(columns=....) is deprecated, use sort_values(by=.....)\n",
      "  if __name__ == '__main__':\n"
     ]
    },
    {
     "data": {
      "text/html": [
       "<div>\n",
       "<table border=\"1\" class=\"dataframe\">\n",
       "  <thead>\n",
       "    <tr style=\"text-align: right;\">\n",
       "      <th></th>\n",
       "      <th>Keyword</th>\n",
       "      <th>Meta</th>\n",
       "      <th>L2</th>\n",
       "      <th>Search PV(Page 1)</th>\n",
       "    </tr>\n",
       "  </thead>\n",
       "  <tbody>\n",
       "    <tr>\n",
       "      <th>0</th>\n",
       "      <td>iphone 6</td>\n",
       "      <td>15032</td>\n",
       "      <td>9355</td>\n",
       "      <td>465715</td>\n",
       "    </tr>\n",
       "    <tr>\n",
       "      <th>11111</th>\n",
       "      <td>iphone 5s</td>\n",
       "      <td>15032</td>\n",
       "      <td>9355</td>\n",
       "      <td>374793</td>\n",
       "    </tr>\n",
       "    <tr>\n",
       "      <th>17220</th>\n",
       "      <td>iphone 6s</td>\n",
       "      <td>15032</td>\n",
       "      <td>9355</td>\n",
       "      <td>372893</td>\n",
       "    </tr>\n",
       "    <tr>\n",
       "      <th>18328</th>\n",
       "      <td>nike</td>\n",
       "      <td>11450</td>\n",
       "      <td>93427</td>\n",
       "      <td>240346</td>\n",
       "    </tr>\n",
       "    <tr>\n",
       "      <th>19438</th>\n",
       "      <td>laptop</td>\n",
       "      <td>58058</td>\n",
       "      <td>175672</td>\n",
       "      <td>233229</td>\n",
       "    </tr>\n",
       "  </tbody>\n",
       "</table>\n",
       "</div>"
      ],
      "text/plain": [
       "         Keyword   Meta      L2  Search PV(Page 1)\n",
       "0       iphone 6  15032    9355             465715\n",
       "11111  iphone 5s  15032    9355             374793\n",
       "17220  iphone 6s  15032    9355             372893\n",
       "18328       nike  11450   93427             240346\n",
       "19438     laptop  58058  175672             233229"
      ]
     },
     "execution_count": 51,
     "metadata": {},
     "output_type": "execute_result"
    }
   ],
   "source": [
    "kws.sort(\"Search PV(Page 1)\", ascending=False).head()"
   ]
  },
  {
   "cell_type": "markdown",
   "metadata": {},
   "source": [
    "Ok..about 25K keywords, with iphone queries leading the pack. "
   ]
  },
  {
   "cell_type": "markdown",
   "metadata": {},
   "source": [
    "Create additional column in item table with category and item name combined. "
   ]
  },
  {
   "cell_type": "code",
   "execution_count": 52,
   "metadata": {
    "collapsed": false
   },
   "outputs": [],
   "source": [
    "titles = items.loc[:,[\"META_CATEG_NAME\",\"AUCT_TITL\"]]\n",
    "def f(x):\n",
    "    return x[0]+\" \" + x[1]\n",
    "items.loc[:,\"fullTitle\"] = titles.apply(f,axis=1)"
   ]
  },
  {
   "cell_type": "markdown",
   "metadata": {},
   "source": [
    "Creating helper function to calculate the jaccard similarity function. For now I'm hardcoding words which I do not want in the similarity calculation"
   ]
  },
  {
   "cell_type": "code",
   "execution_count": 143,
   "metadata": {
    "collapsed": false
   },
   "outputs": [],
   "source": [
    "def jaccardSimilarity(kw, item):\n",
    "    toRemove = [\"the\",\"and\",\"The\",\"with\"]\n",
    "    kw = kw.split()\n",
    "    tmp = [x if x not in toRemove else \"\" for x in kw]\n",
    "    kw = tmp\n",
    "    item = item.split()\n",
    "    cleanedItems = filter(lambda x: len(x)>2,item)\n",
    "    return float(len(set(kw) & set(cleanedItems)))/len(set(kw) | set(cleanedItems))"
   ]
  },
  {
   "cell_type": "markdown",
   "metadata": {},
   "source": [
    "Picking a threshold of 1 perecnt, could also pick the top 30% jaccard indeces for a given item. "
   ]
  },
  {
   "cell_type": "code",
   "execution_count": 139,
   "metadata": {
    "collapsed": false
   },
   "outputs": [],
   "source": [
    "def filterJaccard(df,title,jaccardThresholdQ = 0.7, jaccardThreshold= 0.01):\n",
    "    df.loc[:,\"Jaccard\"] = df[\"Keyword\"].apply(lambda x : jaccardSimilarity(x,title))\n",
    "    #return df[df[\"Jaccard\"]>(df[\"Jaccard\"].max())*jaccardThresholdQ ][\"Keyword\"]\n",
    "    return df[df[\"Jaccard\"]>=jaccardThreshold ][\"Keyword\"]\n"
   ]
  },
  {
   "cell_type": "markdown",
   "metadata": {},
   "source": [
    "Looping over items and finding the jaccard index for that item and the keyword list. "
   ]
  },
  {
   "cell_type": "code",
   "execution_count": 147,
   "metadata": {
    "collapsed": false,
    "scrolled": true
   },
   "outputs": [],
   "source": [
    "frames = []\n",
    "i = 0\n",
    "for index, row in items.iterrows():\n",
    "    if i > 500:\n",
    "        break\n",
    "    jSeries = filterJaccard(kws,row[\"fullTitle\"])\n",
    "    size = len(jSeries)\n",
    "    if size > 0:\n",
    "        content = ((\"Item_Id\", [row[\"item_id1\"]]*size),\n",
    "                 (\"Item Title\", [row[\"AUCT_TITL\"]]*size), \n",
    "                 (\"KW\", jSeries),\n",
    "                 (\"Meta Categ Id\",[row[\"META_CATEG_NAME\"]]*size),\n",
    "                 (\"Item Leaf Category\", row[\"LEAF_CATEG_ID\"]*size))\n",
    "        content = collections.OrderedDict(content)\n",
    "        tmp = pd.DataFrame(content)\n",
    "        frames.append(tmp)\n",
    "    i+=1"
   ]
  },
  {
   "cell_type": "code",
   "execution_count": 150,
   "metadata": {
    "collapsed": false,
    "scrolled": true
   },
   "outputs": [],
   "source": [
    "final = pd.concat(frames)"
   ]
  },
  {
   "cell_type": "code",
   "execution_count": 152,
   "metadata": {
    "collapsed": false
   },
   "outputs": [
    {
     "data": {
      "text/html": [
       "<div>\n",
       "<table border=\"1\" class=\"dataframe\">\n",
       "  <thead>\n",
       "    <tr style=\"text-align: right;\">\n",
       "      <th></th>\n",
       "      <th>Item_Id</th>\n",
       "      <th>Item Title</th>\n",
       "      <th>KW</th>\n",
       "      <th>Meta Categ Id</th>\n",
       "      <th>Item Leaf Category</th>\n",
       "    </tr>\n",
       "  </thead>\n",
       "  <tbody>\n",
       "    <tr>\n",
       "      <th>21953</th>\n",
       "      <td>401000622902</td>\n",
       "      <td>Mirabelle MIRSH2030 Polished Chrome Multi Func...</td>\n",
       "      <td>2.5 sata hard drive</td>\n",
       "      <td>Home &amp; Garden</td>\n",
       "      <td>71282</td>\n",
       "    </tr>\n",
       "    <tr>\n",
       "      <th>10707</th>\n",
       "      <td>381444093001</td>\n",
       "      <td>Kohler K-6228 Polished Chrome Wall Mount Kitch...</td>\n",
       "      <td>tales from the crypt</td>\n",
       "      <td>Home &amp; Garden</td>\n",
       "      <td>126072</td>\n",
       "    </tr>\n",
       "    <tr>\n",
       "      <th>13237</th>\n",
       "      <td>381444093001</td>\n",
       "      <td>Kohler K-6228 Polished Chrome Wall Mount Kitch...</td>\n",
       "      <td>kut from the kloth</td>\n",
       "      <td>Home &amp; Garden</td>\n",
       "      <td>126072</td>\n",
       "    </tr>\n",
       "    <tr>\n",
       "      <th>15916</th>\n",
       "      <td>381444093001</td>\n",
       "      <td>Kohler K-6228 Polished Chrome Wall Mount Kitch...</td>\n",
       "      <td>creature from the black lagoon</td>\n",
       "      <td>Home &amp; Garden</td>\n",
       "      <td>126072</td>\n",
       "    </tr>\n",
       "    <tr>\n",
       "      <th>22543</th>\n",
       "      <td>291663674292</td>\n",
       "      <td>Kohler K-8549 Polished Nickel Alterna Deck Mou...</td>\n",
       "      <td>simian spirit guide</td>\n",
       "      <td>Home &amp; Garden</td>\n",
       "      <td>42024</td>\n",
       "    </tr>\n",
       "    <tr>\n",
       "      <th>10707</th>\n",
       "      <td>291670844708</td>\n",
       "      <td>Eglo 89568A Chrome 6 Light 1 Tier Chandelier f...</td>\n",
       "      <td>tales from the crypt</td>\n",
       "      <td>Home &amp; Garden</td>\n",
       "      <td>352509</td>\n",
       "    </tr>\n",
       "    <tr>\n",
       "      <th>13237</th>\n",
       "      <td>291670844708</td>\n",
       "      <td>Eglo 89568A Chrome 6 Light 1 Tier Chandelier f...</td>\n",
       "      <td>kut from the kloth</td>\n",
       "      <td>Home &amp; Garden</td>\n",
       "      <td>352509</td>\n",
       "    </tr>\n",
       "    <tr>\n",
       "      <th>15916</th>\n",
       "      <td>291670844708</td>\n",
       "      <td>Eglo 89568A Chrome 6 Light 1 Tier Chandelier f...</td>\n",
       "      <td>creature from the black lagoon</td>\n",
       "      <td>Home &amp; Garden</td>\n",
       "      <td>352509</td>\n",
       "    </tr>\n",
       "    <tr>\n",
       "      <th>10707</th>\n",
       "      <td>291663130150</td>\n",
       "      <td>Dimond Lighting HGTV160 Matte Black 1 Light 23...</td>\n",
       "      <td>tales from the crypt</td>\n",
       "      <td>Home &amp; Garden</td>\n",
       "      <td>337743</td>\n",
       "    </tr>\n",
       "    <tr>\n",
       "      <th>13237</th>\n",
       "      <td>291663130150</td>\n",
       "      <td>Dimond Lighting HGTV160 Matte Black 1 Light 23...</td>\n",
       "      <td>kut from the kloth</td>\n",
       "      <td>Home &amp; Garden</td>\n",
       "      <td>337743</td>\n",
       "    </tr>\n",
       "    <tr>\n",
       "      <th>15916</th>\n",
       "      <td>291663130150</td>\n",
       "      <td>Dimond Lighting HGTV160 Matte Black 1 Light 23...</td>\n",
       "      <td>creature from the black lagoon</td>\n",
       "      <td>Home &amp; Garden</td>\n",
       "      <td>337743</td>\n",
       "    </tr>\n",
       "    <tr>\n",
       "      <th>1228</th>\n",
       "      <td>291664025890</td>\n",
       "      <td>EZ-Set 502822B Satin Nickel 300 Series Metal T...</td>\n",
       "      <td>amazing spiderman 300</td>\n",
       "      <td>Home &amp; Garden</td>\n",
       "      <td>25528</td>\n",
       "    </tr>\n",
       "    <tr>\n",
       "      <th>2469</th>\n",
       "      <td>291664025890</td>\n",
       "      <td>EZ-Set 502822B Satin Nickel 300 Series Metal T...</td>\n",
       "      <td>chrysler 300</td>\n",
       "      <td>Home &amp; Garden</td>\n",
       "      <td>25528</td>\n",
       "    </tr>\n",
       "    <tr>\n",
       "      <th>7462</th>\n",
       "      <td>291664025890</td>\n",
       "      <td>EZ-Set 502822B Satin Nickel 300 Series Metal T...</td>\n",
       "      <td>300 blackout</td>\n",
       "      <td>Home &amp; Garden</td>\n",
       "      <td>25528</td>\n",
       "    </tr>\n",
       "    <tr>\n",
       "      <th>11137</th>\n",
       "      <td>291664025890</td>\n",
       "      <td>EZ-Set 502822B Satin Nickel 300 Series Metal T...</td>\n",
       "      <td>omega seamaster 300</td>\n",
       "      <td>Home &amp; Garden</td>\n",
       "      <td>25528</td>\n",
       "    </tr>\n",
       "    <tr>\n",
       "      <th>12429</th>\n",
       "      <td>291664025890</td>\n",
       "      <td>EZ-Set 502822B Satin Nickel 300 Series Metal T...</td>\n",
       "      <td>ktm 300</td>\n",
       "      <td>Home &amp; Garden</td>\n",
       "      <td>25528</td>\n",
       "    </tr>\n",
       "    <tr>\n",
       "      <th>13025</th>\n",
       "      <td>291664025890</td>\n",
       "      <td>EZ-Set 502822B Satin Nickel 300 Series Metal T...</td>\n",
       "      <td>spiderman 300</td>\n",
       "      <td>Home &amp; Garden</td>\n",
       "      <td>25528</td>\n",
       "    </tr>\n",
       "    <tr>\n",
       "      <th>16317</th>\n",
       "      <td>291664025890</td>\n",
       "      <td>EZ-Set 502822B Satin Nickel 300 Series Metal T...</td>\n",
       "      <td>ninja 300</td>\n",
       "      <td>Home &amp; Garden</td>\n",
       "      <td>25528</td>\n",
       "    </tr>\n",
       "    <tr>\n",
       "      <th>17216</th>\n",
       "      <td>291664025890</td>\n",
       "      <td>EZ-Set 502822B Satin Nickel 300 Series Metal T...</td>\n",
       "      <td>chrysler 300 series</td>\n",
       "      <td>Home &amp; Garden</td>\n",
       "      <td>25528</td>\n",
       "    </tr>\n",
       "    <tr>\n",
       "      <th>138</th>\n",
       "      <td>401061881578</td>\n",
       "      <td>Quorum International 5110-2 Classic Nickel Spe...</td>\n",
       "      <td>uv light</td>\n",
       "      <td>Home &amp; Garden</td>\n",
       "      <td>7830960</td>\n",
       "    </tr>\n",
       "    <tr>\n",
       "      <th>777</th>\n",
       "      <td>401061881578</td>\n",
       "      <td>Quorum International 5110-2 Classic Nickel Spe...</td>\n",
       "      <td>tail light</td>\n",
       "      <td>Home &amp; Garden</td>\n",
       "      <td>7830960</td>\n",
       "    </tr>\n",
       "    <tr>\n",
       "      <th>1048</th>\n",
       "      <td>401061881578</td>\n",
       "      <td>Quorum International 5110-2 Classic Nickel Spe...</td>\n",
       "      <td>pool table light</td>\n",
       "      <td>Home &amp; Garden</td>\n",
       "      <td>7830960</td>\n",
       "    </tr>\n",
       "    <tr>\n",
       "      <th>1423</th>\n",
       "      <td>401061881578</td>\n",
       "      <td>Quorum International 5110-2 Classic Nickel Spe...</td>\n",
       "      <td>off road led light bar</td>\n",
       "      <td>Home &amp; Garden</td>\n",
       "      <td>7830960</td>\n",
       "    </tr>\n",
       "    <tr>\n",
       "      <th>1935</th>\n",
       "      <td>401061881578</td>\n",
       "      <td>Quorum International 5110-2 Classic Nickel Spe...</td>\n",
       "      <td>light bar</td>\n",
       "      <td>Home &amp; Garden</td>\n",
       "      <td>7830960</td>\n",
       "    </tr>\n",
       "    <tr>\n",
       "      <th>2043</th>\n",
       "      <td>401061881578</td>\n",
       "      <td>Quorum International 5110-2 Classic Nickel Spe...</td>\n",
       "      <td>traffic light</td>\n",
       "      <td>Home &amp; Garden</td>\n",
       "      <td>7830960</td>\n",
       "    </tr>\n",
       "    <tr>\n",
       "      <th>2139</th>\n",
       "      <td>401061881578</td>\n",
       "      <td>Quorum International 5110-2 Classic Nickel Spe...</td>\n",
       "      <td>pendant light</td>\n",
       "      <td>Home &amp; Garden</td>\n",
       "      <td>7830960</td>\n",
       "    </tr>\n",
       "    <tr>\n",
       "      <th>2235</th>\n",
       "      <td>401061881578</td>\n",
       "      <td>Quorum International 5110-2 Classic Nickel Spe...</td>\n",
       "      <td>flash light</td>\n",
       "      <td>Home &amp; Garden</td>\n",
       "      <td>7830960</td>\n",
       "    </tr>\n",
       "    <tr>\n",
       "      <th>2347</th>\n",
       "      <td>401061881578</td>\n",
       "      <td>Quorum International 5110-2 Classic Nickel Spe...</td>\n",
       "      <td>light up shoes</td>\n",
       "      <td>Home &amp; Garden</td>\n",
       "      <td>7830960</td>\n",
       "    </tr>\n",
       "    <tr>\n",
       "      <th>2807</th>\n",
       "      <td>401061881578</td>\n",
       "      <td>Quorum International 5110-2 Classic Nickel Spe...</td>\n",
       "      <td>light bulbs</td>\n",
       "      <td>Home &amp; Garden</td>\n",
       "      <td>7830960</td>\n",
       "    </tr>\n",
       "    <tr>\n",
       "      <th>2837</th>\n",
       "      <td>401061881578</td>\n",
       "      <td>Quorum International 5110-2 Classic Nickel Spe...</td>\n",
       "      <td>light box</td>\n",
       "      <td>Home &amp; Garden</td>\n",
       "      <td>7830960</td>\n",
       "    </tr>\n",
       "    <tr>\n",
       "      <th>...</th>\n",
       "      <td>...</td>\n",
       "      <td>...</td>\n",
       "      <td>...</td>\n",
       "      <td>...</td>\n",
       "      <td>...</td>\n",
       "    </tr>\n",
       "    <tr>\n",
       "      <th>20716</th>\n",
       "      <td>291663884906</td>\n",
       "      <td>Tech Lighting 700MOTBAR9C White MonoRail T-Bar...</td>\n",
       "      <td>dresses for women</td>\n",
       "      <td>Home &amp; Garden</td>\n",
       "      <td>2174025</td>\n",
       "    </tr>\n",
       "    <tr>\n",
       "      <th>20808</th>\n",
       "      <td>291663884906</td>\n",
       "      <td>Tech Lighting 700MOTBAR9C White MonoRail T-Bar...</td>\n",
       "      <td>wigs for women</td>\n",
       "      <td>Home &amp; Garden</td>\n",
       "      <td>2174025</td>\n",
       "    </tr>\n",
       "    <tr>\n",
       "      <th>20842</th>\n",
       "      <td>291663884906</td>\n",
       "      <td>Tech Lighting 700MOTBAR9C White MonoRail T-Bar...</td>\n",
       "      <td>puppies for sale</td>\n",
       "      <td>Home &amp; Garden</td>\n",
       "      <td>2174025</td>\n",
       "    </tr>\n",
       "    <tr>\n",
       "      <th>20914</th>\n",
       "      <td>291663884906</td>\n",
       "      <td>Tech Lighting 700MOTBAR9C White MonoRail T-Bar...</td>\n",
       "      <td>hot rods for sale</td>\n",
       "      <td>Home &amp; Garden</td>\n",
       "      <td>2174025</td>\n",
       "    </tr>\n",
       "    <tr>\n",
       "      <th>20977</th>\n",
       "      <td>291663884906</td>\n",
       "      <td>Tech Lighting 700MOTBAR9C White MonoRail T-Bar...</td>\n",
       "      <td>for love lemons</td>\n",
       "      <td>Home &amp; Garden</td>\n",
       "      <td>2174025</td>\n",
       "    </tr>\n",
       "    <tr>\n",
       "      <th>21045</th>\n",
       "      <td>291663884906</td>\n",
       "      <td>Tech Lighting 700MOTBAR9C White MonoRail T-Bar...</td>\n",
       "      <td>dirt bikes for sale</td>\n",
       "      <td>Home &amp; Garden</td>\n",
       "      <td>2174025</td>\n",
       "    </tr>\n",
       "    <tr>\n",
       "      <th>21058</th>\n",
       "      <td>291663884906</td>\n",
       "      <td>Tech Lighting 700MOTBAR9C White MonoRail T-Bar...</td>\n",
       "      <td>golf carts for sale</td>\n",
       "      <td>Home &amp; Garden</td>\n",
       "      <td>2174025</td>\n",
       "    </tr>\n",
       "    <tr>\n",
       "      <th>21377</th>\n",
       "      <td>291663884906</td>\n",
       "      <td>Tech Lighting 700MOTBAR9C White MonoRail T-Bar...</td>\n",
       "      <td>bass boats for sale</td>\n",
       "      <td>Home &amp; Garden</td>\n",
       "      <td>2174025</td>\n",
       "    </tr>\n",
       "    <tr>\n",
       "      <th>21448</th>\n",
       "      <td>291663884906</td>\n",
       "      <td>Tech Lighting 700MOTBAR9C White MonoRail T-Bar...</td>\n",
       "      <td>cases for iphone 6</td>\n",
       "      <td>Home &amp; Garden</td>\n",
       "      <td>2174025</td>\n",
       "    </tr>\n",
       "    <tr>\n",
       "      <th>21823</th>\n",
       "      <td>291663884906</td>\n",
       "      <td>Tech Lighting 700MOTBAR9C White MonoRail T-Bar...</td>\n",
       "      <td>tow trucks for sale</td>\n",
       "      <td>Home &amp; Garden</td>\n",
       "      <td>2174025</td>\n",
       "    </tr>\n",
       "    <tr>\n",
       "      <th>21974</th>\n",
       "      <td>291663884906</td>\n",
       "      <td>Tech Lighting 700MOTBAR9C White MonoRail T-Bar...</td>\n",
       "      <td>fishing boats for sale</td>\n",
       "      <td>Home &amp; Garden</td>\n",
       "      <td>2174025</td>\n",
       "    </tr>\n",
       "    <tr>\n",
       "      <th>22343</th>\n",
       "      <td>291663884906</td>\n",
       "      <td>Tech Lighting 700MOTBAR9C White MonoRail T-Bar...</td>\n",
       "      <td>cars for sale</td>\n",
       "      <td>Home &amp; Garden</td>\n",
       "      <td>2174025</td>\n",
       "    </tr>\n",
       "    <tr>\n",
       "      <th>22477</th>\n",
       "      <td>291663884906</td>\n",
       "      <td>Tech Lighting 700MOTBAR9C White MonoRail T-Bar...</td>\n",
       "      <td>for love and lemons</td>\n",
       "      <td>Home &amp; Garden</td>\n",
       "      <td>2174025</td>\n",
       "    </tr>\n",
       "    <tr>\n",
       "      <th>22535</th>\n",
       "      <td>291663884906</td>\n",
       "      <td>Tech Lighting 700MOTBAR9C White MonoRail T-Bar...</td>\n",
       "      <td>pontoon boats for sale</td>\n",
       "      <td>Home &amp; Garden</td>\n",
       "      <td>2174025</td>\n",
       "    </tr>\n",
       "    <tr>\n",
       "      <th>22653</th>\n",
       "      <td>291663884906</td>\n",
       "      <td>Tech Lighting 700MOTBAR9C White MonoRail T-Bar...</td>\n",
       "      <td>used furniture for sale</td>\n",
       "      <td>Home &amp; Garden</td>\n",
       "      <td>2174025</td>\n",
       "    </tr>\n",
       "    <tr>\n",
       "      <th>22746</th>\n",
       "      <td>291663884906</td>\n",
       "      <td>Tech Lighting 700MOTBAR9C White MonoRail T-Bar...</td>\n",
       "      <td>coloring books for adults</td>\n",
       "      <td>Home &amp; Garden</td>\n",
       "      <td>2174025</td>\n",
       "    </tr>\n",
       "    <tr>\n",
       "      <th>22810</th>\n",
       "      <td>291663884906</td>\n",
       "      <td>Tech Lighting 700MOTBAR9C White MonoRail T-Bar...</td>\n",
       "      <td>classic cars for sale</td>\n",
       "      <td>Home &amp; Garden</td>\n",
       "      <td>2174025</td>\n",
       "    </tr>\n",
       "    <tr>\n",
       "      <th>23827</th>\n",
       "      <td>291663884906</td>\n",
       "      <td>Tech Lighting 700MOTBAR9C White MonoRail T-Bar...</td>\n",
       "      <td>watches for men</td>\n",
       "      <td>Home &amp; Garden</td>\n",
       "      <td>2174025</td>\n",
       "    </tr>\n",
       "    <tr>\n",
       "      <th>24338</th>\n",
       "      <td>291663884906</td>\n",
       "      <td>Tech Lighting 700MOTBAR9C White MonoRail T-Bar...</td>\n",
       "      <td>dump trucks for sale</td>\n",
       "      <td>Home &amp; Garden</td>\n",
       "      <td>2174025</td>\n",
       "    </tr>\n",
       "    <tr>\n",
       "      <th>24800</th>\n",
       "      <td>291663884906</td>\n",
       "      <td>Tech Lighting 700MOTBAR9C White MonoRail T-Bar...</td>\n",
       "      <td>bmw motorcycles for sale</td>\n",
       "      <td>Home &amp; Garden</td>\n",
       "      <td>2174025</td>\n",
       "    </tr>\n",
       "    <tr>\n",
       "      <th>24813</th>\n",
       "      <td>291663884906</td>\n",
       "      <td>Tech Lighting 700MOTBAR9C White MonoRail T-Bar...</td>\n",
       "      <td>mobile homes for sale</td>\n",
       "      <td>Home &amp; Garden</td>\n",
       "      <td>2174025</td>\n",
       "    </tr>\n",
       "    <tr>\n",
       "      <th>10707</th>\n",
       "      <td>291662989450</td>\n",
       "      <td>Gatco 4379S Chrome Rectangular Wall Mirror fro...</td>\n",
       "      <td>tales from the crypt</td>\n",
       "      <td>Home &amp; Garden</td>\n",
       "      <td>9573</td>\n",
       "    </tr>\n",
       "    <tr>\n",
       "      <th>13237</th>\n",
       "      <td>291662989450</td>\n",
       "      <td>Gatco 4379S Chrome Rectangular Wall Mirror fro...</td>\n",
       "      <td>kut from the kloth</td>\n",
       "      <td>Home &amp; Garden</td>\n",
       "      <td>9573</td>\n",
       "    </tr>\n",
       "    <tr>\n",
       "      <th>15916</th>\n",
       "      <td>291662989450</td>\n",
       "      <td>Gatco 4379S Chrome Rectangular Wall Mirror fro...</td>\n",
       "      <td>creature from the black lagoon</td>\n",
       "      <td>Home &amp; Garden</td>\n",
       "      <td>9573</td>\n",
       "    </tr>\n",
       "    <tr>\n",
       "      <th>10707</th>\n",
       "      <td>381531384824</td>\n",
       "      <td>Golden Lighting 1567-1W Peppercorn Single Ligh...</td>\n",
       "      <td>tales from the crypt</td>\n",
       "      <td>Home &amp; Garden</td>\n",
       "      <td>350640</td>\n",
       "    </tr>\n",
       "    <tr>\n",
       "      <th>13237</th>\n",
       "      <td>381531384824</td>\n",
       "      <td>Golden Lighting 1567-1W Peppercorn Single Ligh...</td>\n",
       "      <td>kut from the kloth</td>\n",
       "      <td>Home &amp; Garden</td>\n",
       "      <td>350640</td>\n",
       "    </tr>\n",
       "    <tr>\n",
       "      <th>15916</th>\n",
       "      <td>381531384824</td>\n",
       "      <td>Golden Lighting 1567-1W Peppercorn Single Ligh...</td>\n",
       "      <td>creature from the black lagoon</td>\n",
       "      <td>Home &amp; Garden</td>\n",
       "      <td>350640</td>\n",
       "    </tr>\n",
       "    <tr>\n",
       "      <th>10707</th>\n",
       "      <td>291670858214</td>\n",
       "      <td>Dolan Designs 2620 Vista 6 Light Up Lighting C...</td>\n",
       "      <td>tales from the crypt</td>\n",
       "      <td>Home &amp; Garden</td>\n",
       "      <td>352509</td>\n",
       "    </tr>\n",
       "    <tr>\n",
       "      <th>13237</th>\n",
       "      <td>291670858214</td>\n",
       "      <td>Dolan Designs 2620 Vista 6 Light Up Lighting C...</td>\n",
       "      <td>kut from the kloth</td>\n",
       "      <td>Home &amp; Garden</td>\n",
       "      <td>352509</td>\n",
       "    </tr>\n",
       "    <tr>\n",
       "      <th>15916</th>\n",
       "      <td>291670858214</td>\n",
       "      <td>Dolan Designs 2620 Vista 6 Light Up Lighting C...</td>\n",
       "      <td>creature from the black lagoon</td>\n",
       "      <td>Home &amp; Garden</td>\n",
       "      <td>352509</td>\n",
       "    </tr>\n",
       "  </tbody>\n",
       "</table>\n",
       "<p>977 rows × 5 columns</p>\n",
       "</div>"
      ],
      "text/plain": [
       "            Item_Id                                         Item Title  \\\n",
       "21953  401000622902  Mirabelle MIRSH2030 Polished Chrome Multi Func...   \n",
       "10707  381444093001  Kohler K-6228 Polished Chrome Wall Mount Kitch...   \n",
       "13237  381444093001  Kohler K-6228 Polished Chrome Wall Mount Kitch...   \n",
       "15916  381444093001  Kohler K-6228 Polished Chrome Wall Mount Kitch...   \n",
       "22543  291663674292  Kohler K-8549 Polished Nickel Alterna Deck Mou...   \n",
       "10707  291670844708  Eglo 89568A Chrome 6 Light 1 Tier Chandelier f...   \n",
       "13237  291670844708  Eglo 89568A Chrome 6 Light 1 Tier Chandelier f...   \n",
       "15916  291670844708  Eglo 89568A Chrome 6 Light 1 Tier Chandelier f...   \n",
       "10707  291663130150  Dimond Lighting HGTV160 Matte Black 1 Light 23...   \n",
       "13237  291663130150  Dimond Lighting HGTV160 Matte Black 1 Light 23...   \n",
       "15916  291663130150  Dimond Lighting HGTV160 Matte Black 1 Light 23...   \n",
       "1228   291664025890  EZ-Set 502822B Satin Nickel 300 Series Metal T...   \n",
       "2469   291664025890  EZ-Set 502822B Satin Nickel 300 Series Metal T...   \n",
       "7462   291664025890  EZ-Set 502822B Satin Nickel 300 Series Metal T...   \n",
       "11137  291664025890  EZ-Set 502822B Satin Nickel 300 Series Metal T...   \n",
       "12429  291664025890  EZ-Set 502822B Satin Nickel 300 Series Metal T...   \n",
       "13025  291664025890  EZ-Set 502822B Satin Nickel 300 Series Metal T...   \n",
       "16317  291664025890  EZ-Set 502822B Satin Nickel 300 Series Metal T...   \n",
       "17216  291664025890  EZ-Set 502822B Satin Nickel 300 Series Metal T...   \n",
       "138    401061881578  Quorum International 5110-2 Classic Nickel Spe...   \n",
       "777    401061881578  Quorum International 5110-2 Classic Nickel Spe...   \n",
       "1048   401061881578  Quorum International 5110-2 Classic Nickel Spe...   \n",
       "1423   401061881578  Quorum International 5110-2 Classic Nickel Spe...   \n",
       "1935   401061881578  Quorum International 5110-2 Classic Nickel Spe...   \n",
       "2043   401061881578  Quorum International 5110-2 Classic Nickel Spe...   \n",
       "2139   401061881578  Quorum International 5110-2 Classic Nickel Spe...   \n",
       "2235   401061881578  Quorum International 5110-2 Classic Nickel Spe...   \n",
       "2347   401061881578  Quorum International 5110-2 Classic Nickel Spe...   \n",
       "2807   401061881578  Quorum International 5110-2 Classic Nickel Spe...   \n",
       "2837   401061881578  Quorum International 5110-2 Classic Nickel Spe...   \n",
       "...             ...                                                ...   \n",
       "20716  291663884906  Tech Lighting 700MOTBAR9C White MonoRail T-Bar...   \n",
       "20808  291663884906  Tech Lighting 700MOTBAR9C White MonoRail T-Bar...   \n",
       "20842  291663884906  Tech Lighting 700MOTBAR9C White MonoRail T-Bar...   \n",
       "20914  291663884906  Tech Lighting 700MOTBAR9C White MonoRail T-Bar...   \n",
       "20977  291663884906  Tech Lighting 700MOTBAR9C White MonoRail T-Bar...   \n",
       "21045  291663884906  Tech Lighting 700MOTBAR9C White MonoRail T-Bar...   \n",
       "21058  291663884906  Tech Lighting 700MOTBAR9C White MonoRail T-Bar...   \n",
       "21377  291663884906  Tech Lighting 700MOTBAR9C White MonoRail T-Bar...   \n",
       "21448  291663884906  Tech Lighting 700MOTBAR9C White MonoRail T-Bar...   \n",
       "21823  291663884906  Tech Lighting 700MOTBAR9C White MonoRail T-Bar...   \n",
       "21974  291663884906  Tech Lighting 700MOTBAR9C White MonoRail T-Bar...   \n",
       "22343  291663884906  Tech Lighting 700MOTBAR9C White MonoRail T-Bar...   \n",
       "22477  291663884906  Tech Lighting 700MOTBAR9C White MonoRail T-Bar...   \n",
       "22535  291663884906  Tech Lighting 700MOTBAR9C White MonoRail T-Bar...   \n",
       "22653  291663884906  Tech Lighting 700MOTBAR9C White MonoRail T-Bar...   \n",
       "22746  291663884906  Tech Lighting 700MOTBAR9C White MonoRail T-Bar...   \n",
       "22810  291663884906  Tech Lighting 700MOTBAR9C White MonoRail T-Bar...   \n",
       "23827  291663884906  Tech Lighting 700MOTBAR9C White MonoRail T-Bar...   \n",
       "24338  291663884906  Tech Lighting 700MOTBAR9C White MonoRail T-Bar...   \n",
       "24800  291663884906  Tech Lighting 700MOTBAR9C White MonoRail T-Bar...   \n",
       "24813  291663884906  Tech Lighting 700MOTBAR9C White MonoRail T-Bar...   \n",
       "10707  291662989450  Gatco 4379S Chrome Rectangular Wall Mirror fro...   \n",
       "13237  291662989450  Gatco 4379S Chrome Rectangular Wall Mirror fro...   \n",
       "15916  291662989450  Gatco 4379S Chrome Rectangular Wall Mirror fro...   \n",
       "10707  381531384824  Golden Lighting 1567-1W Peppercorn Single Ligh...   \n",
       "13237  381531384824  Golden Lighting 1567-1W Peppercorn Single Ligh...   \n",
       "15916  381531384824  Golden Lighting 1567-1W Peppercorn Single Ligh...   \n",
       "10707  291670858214  Dolan Designs 2620 Vista 6 Light Up Lighting C...   \n",
       "13237  291670858214  Dolan Designs 2620 Vista 6 Light Up Lighting C...   \n",
       "15916  291670858214  Dolan Designs 2620 Vista 6 Light Up Lighting C...   \n",
       "\n",
       "                                   KW  Meta Categ Id  Item Leaf Category  \n",
       "21953             2.5 sata hard drive  Home & Garden               71282  \n",
       "10707            tales from the crypt  Home & Garden              126072  \n",
       "13237              kut from the kloth  Home & Garden              126072  \n",
       "15916  creature from the black lagoon  Home & Garden              126072  \n",
       "22543             simian spirit guide  Home & Garden               42024  \n",
       "10707            tales from the crypt  Home & Garden              352509  \n",
       "13237              kut from the kloth  Home & Garden              352509  \n",
       "15916  creature from the black lagoon  Home & Garden              352509  \n",
       "10707            tales from the crypt  Home & Garden              337743  \n",
       "13237              kut from the kloth  Home & Garden              337743  \n",
       "15916  creature from the black lagoon  Home & Garden              337743  \n",
       "1228            amazing spiderman 300  Home & Garden               25528  \n",
       "2469                     chrysler 300  Home & Garden               25528  \n",
       "7462                     300 blackout  Home & Garden               25528  \n",
       "11137             omega seamaster 300  Home & Garden               25528  \n",
       "12429                         ktm 300  Home & Garden               25528  \n",
       "13025                   spiderman 300  Home & Garden               25528  \n",
       "16317                       ninja 300  Home & Garden               25528  \n",
       "17216             chrysler 300 series  Home & Garden               25528  \n",
       "138                          uv light  Home & Garden             7830960  \n",
       "777                        tail light  Home & Garden             7830960  \n",
       "1048                 pool table light  Home & Garden             7830960  \n",
       "1423           off road led light bar  Home & Garden             7830960  \n",
       "1935                        light bar  Home & Garden             7830960  \n",
       "2043                    traffic light  Home & Garden             7830960  \n",
       "2139                    pendant light  Home & Garden             7830960  \n",
       "2235                      flash light  Home & Garden             7830960  \n",
       "2347                   light up shoes  Home & Garden             7830960  \n",
       "2807                      light bulbs  Home & Garden             7830960  \n",
       "2837                        light box  Home & Garden             7830960  \n",
       "...                               ...            ...                 ...  \n",
       "20716               dresses for women  Home & Garden             2174025  \n",
       "20808                  wigs for women  Home & Garden             2174025  \n",
       "20842                puppies for sale  Home & Garden             2174025  \n",
       "20914               hot rods for sale  Home & Garden             2174025  \n",
       "20977                 for love lemons  Home & Garden             2174025  \n",
       "21045             dirt bikes for sale  Home & Garden             2174025  \n",
       "21058             golf carts for sale  Home & Garden             2174025  \n",
       "21377             bass boats for sale  Home & Garden             2174025  \n",
       "21448              cases for iphone 6  Home & Garden             2174025  \n",
       "21823             tow trucks for sale  Home & Garden             2174025  \n",
       "21974          fishing boats for sale  Home & Garden             2174025  \n",
       "22343                   cars for sale  Home & Garden             2174025  \n",
       "22477             for love and lemons  Home & Garden             2174025  \n",
       "22535          pontoon boats for sale  Home & Garden             2174025  \n",
       "22653         used furniture for sale  Home & Garden             2174025  \n",
       "22746       coloring books for adults  Home & Garden             2174025  \n",
       "22810           classic cars for sale  Home & Garden             2174025  \n",
       "23827                 watches for men  Home & Garden             2174025  \n",
       "24338            dump trucks for sale  Home & Garden             2174025  \n",
       "24800        bmw motorcycles for sale  Home & Garden             2174025  \n",
       "24813           mobile homes for sale  Home & Garden             2174025  \n",
       "10707            tales from the crypt  Home & Garden                9573  \n",
       "13237              kut from the kloth  Home & Garden                9573  \n",
       "15916  creature from the black lagoon  Home & Garden                9573  \n",
       "10707            tales from the crypt  Home & Garden              350640  \n",
       "13237              kut from the kloth  Home & Garden              350640  \n",
       "15916  creature from the black lagoon  Home & Garden              350640  \n",
       "10707            tales from the crypt  Home & Garden              352509  \n",
       "13237              kut from the kloth  Home & Garden              352509  \n",
       "15916  creature from the black lagoon  Home & Garden              352509  \n",
       "\n",
       "[977 rows x 5 columns]"
      ]
     },
     "execution_count": 152,
     "metadata": {},
     "output_type": "execute_result"
    }
   ],
   "source": [
    "final"
   ]
  },
  {
   "cell_type": "markdown",
   "metadata": {},
   "source": [
    "This is a very innefficient way of calling the helper functions (about 30 seconds for 500 items). One should really use a combination of apply() on the columns. For now, it will do since i've been passed my alloted time. This excercise is tough because finding a good metric for similarity between a keyword and a (sometimes long) item name can skew the metric. (i.e. the jaccard similarity has the union of the two sets in the denominator)  "
   ]
  },
  {
   "cell_type": "markdown",
   "metadata": {},
   "source": [
    "The metric needs to be rethought, it's not giving correct (relevant) results yet."
   ]
  },
  {
   "cell_type": "code",
   "execution_count": null,
   "metadata": {
    "collapsed": true
   },
   "outputs": [],
   "source": []
  }
 ],
 "metadata": {
  "kernelspec": {
   "display_name": "Python 2",
   "language": "python",
   "name": "python2"
  },
  "language_info": {
   "codemirror_mode": {
    "name": "ipython",
    "version": 2
   },
   "file_extension": ".py",
   "mimetype": "text/x-python",
   "name": "python",
   "nbconvert_exporter": "python",
   "pygments_lexer": "ipython2",
   "version": "2.7.11"
  }
 },
 "nbformat": 4,
 "nbformat_minor": 0
}
